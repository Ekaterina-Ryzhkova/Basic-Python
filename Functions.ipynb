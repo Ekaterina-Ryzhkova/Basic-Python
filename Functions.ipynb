{
  "nbformat": 4,
  "nbformat_minor": 0,
  "metadata": {
    "colab": {
      "provenance": []
    },
    "kernelspec": {
      "name": "python3",
      "display_name": "Python 3"
    },
    "language_info": {
      "name": "python"
    }
  },
  "cells": [
    {
      "cell_type": "markdown",
      "source": [
        "# **\"Функции\"**\n",
        "\n",
        "Вам нужно помочь секретарю автоматизировать работу. Для этого нужно написать программу, которая будет на основе хранимых данных исполнять\n",
        " пользовательские команды.\n",
        "\n",
        "Исходные данные имеют следующую структуру:\n"
      ],
      "metadata": {
        "id": "LjDQRg1TAIWc"
      }
    },
    {
      "cell_type": "code",
      "source": [
        "documents = [\n",
        " {'type': 'passport', 'number': '2207 876234', 'name': 'Василий Гупкин'},\n",
        " {'type': 'invoice', 'number': '11-2', 'name': 'Геннадий Покемонов'},\n",
        " {'type': 'insurance', 'number': '10006', 'name': 'Аристарх Павлов'}\n",
        "]"
      ],
      "metadata": {
        "id": "go3CiTOHAPMj"
      },
      "execution_count": null,
      "outputs": []
    },
    {
      "cell_type": "code",
      "source": [
        "directories = {\n",
        " '1': ['2207 876234', '11-2'],\n",
        " '2': ['10006'],\n",
        " '3': []\n",
        "}"
      ],
      "metadata": {
        "id": "kvAeEO_ZAVtH"
      },
      "execution_count": null,
      "outputs": []
    },
    {
      "cell_type": "markdown",
      "source": [
        "# Задание 1\n",
        "\n",
        "**Пункт 1.** Пользователь по команде \"p\" может узнать владельца документа по его номеру\n"
      ],
      "metadata": {
        "id": "J4aFbbYLAoxZ"
      }
    },
    {
      "cell_type": "code",
      "source": [
        "def owner_name(documents):\n",
        "  \"\"\"\n",
        "  функция выводит имя владельца по номеру документа\n",
        "  \"\"\"\n",
        "  meaning = input('Введите номер документа: ')\n",
        "  for document in documents:\n",
        "    if document['number'] == meaning:\n",
        "      return(document['name'])\n",
        "print(owner_name(documents))"
      ],
      "metadata": {
        "colab": {
          "base_uri": "https://localhost:8080/"
        },
        "id": "UCLmWTkvA3gi",
        "outputId": "f81d146a-d488-4748-e059-432816ac1dbf"
      },
      "execution_count": null,
      "outputs": [
        {
          "output_type": "stream",
          "name": "stdout",
          "text": [
            "Введите номер документа: 11-2\n",
            "Геннадий Покемонов\n"
          ]
        }
      ]
    },
    {
      "cell_type": "code",
      "source": [
        "def data(documents):\n",
        "  while True:\n",
        "    command = input('Введите команду: ')\n",
        "    if command == 'p':\n",
        "      print(f'Владелец документа: {owner_name(documents)}')\n",
        "      break\n",
        "data(documents)"
      ],
      "metadata": {
        "colab": {
          "base_uri": "https://localhost:8080/"
        },
        "id": "ikzet1V-IwI_",
        "outputId": "da981162-e676-4249-98c2-e3bb81d625ff"
      },
      "execution_count": null,
      "outputs": [
        {
          "output_type": "stream",
          "name": "stdout",
          "text": [
            "Введите команду: p\n",
            "Введите номер документа: 10006\n",
            "Владелец документа: Аристарх Павлов\n"
          ]
        }
      ]
    },
    {
      "cell_type": "markdown",
      "source": [
        "**Пункт 2.** Пользователь по команде \"s\" может по номеру документа узнать на какой полке он хранится"
      ],
      "metadata": {
        "id": "6FwrYBsgKLe_"
      }
    },
    {
      "cell_type": "code",
      "source": [
        "def position(directories):\n",
        "  meaning = input('Введите номер документа: ')\n",
        "  for number_shelf, number_doc in directories.items():\n",
        "    for number in number_doc:\n",
        "      if number == meaning:\n",
        "        return(number_shelf)\n",
        "position(directories)"
      ],
      "metadata": {
        "colab": {
          "base_uri": "https://localhost:8080/",
          "height": 53
        },
        "id": "O3t8CL2RKVH1",
        "outputId": "be3005a8-ce82-4f74-b9fc-1bbe6d54a7f8"
      },
      "execution_count": null,
      "outputs": [
        {
          "name": "stdout",
          "output_type": "stream",
          "text": [
            "Введите номер документа: 11-2\n"
          ]
        },
        {
          "output_type": "execute_result",
          "data": {
            "text/plain": [
              "'1'"
            ],
            "application/vnd.google.colaboratory.intrinsic+json": {
              "type": "string"
            }
          },
          "metadata": {},
          "execution_count": 22
        }
      ]
    },
    {
      "cell_type": "code",
      "source": [
        "def data(documents):\n",
        "  while True:\n",
        "    command = input('Введите команду: ')\n",
        "    if command == 's':\n",
        "      print(f'Документ хранится на полке № {position(directories)}')\n",
        "      break\n",
        "data(documents)"
      ],
      "metadata": {
        "colab": {
          "base_uri": "https://localhost:8080/"
        },
        "id": "b206KHjWn64U",
        "outputId": "11ab3dc8-3e57-49f5-b6e7-14e5fcb3620e"
      },
      "execution_count": null,
      "outputs": [
        {
          "output_type": "stream",
          "name": "stdout",
          "text": [
            "Введите команду: s\n",
            "Введите номер документа: 10006\n",
            "Документ хранится на полке № 2\n"
          ]
        }
      ]
    },
    {
      "cell_type": "markdown",
      "source": [
        "**Пункт 3.** Пользователь по команде \"l\" может увидеть полную информацию по всем документам"
      ],
      "metadata": {
        "id": "yX1gvuFlhIWj"
      }
    },
    {
      "cell_type": "code",
      "source": [
        "def info_doc(documents,directories):\n",
        "  for number_shelf,number_doc in directories.items():\n",
        "    for info in documents:\n",
        "      if info['number'] in number_doc:\n",
        "        print(f\"№: {info['number']}, тип: {info['type']}, владелец: {info['name']}, полка хранения: {number_shelf}\")\n",
        "  return\n",
        "info_doc(documents,directories)"
      ],
      "metadata": {
        "id": "hSGU6LDThPNq",
        "colab": {
          "base_uri": "https://localhost:8080/"
        },
        "outputId": "555df73c-ddd6-442e-dff0-ba3ee4653f8f"
      },
      "execution_count": null,
      "outputs": [
        {
          "output_type": "stream",
          "name": "stdout",
          "text": [
            "№: 2207 876234, тип: passport, владелец: Василий Гупкин, полка хранения: 1\n",
            "№: 11-2, тип: invoice, владелец: Геннадий Покемонов, полка хранения: 1\n",
            "№: 10006, тип: insurance, владелец: Аристарх Павлов, полка хранения: 2\n"
          ]
        }
      ]
    },
    {
      "cell_type": "code",
      "source": [
        "def data(documents):\n",
        "  while True:\n",
        "    command = input('Введите команду: ')\n",
        "    if command == 'l':\n",
        "      info_doc(documents,directories)\n",
        "      break\n",
        "data(documents)"
      ],
      "metadata": {
        "colab": {
          "base_uri": "https://localhost:8080/"
        },
        "id": "R-YQqxwI0X1b",
        "outputId": "c8ec1b67-64fb-4126-eb11-38e80f731abd"
      },
      "execution_count": null,
      "outputs": [
        {
          "output_type": "stream",
          "name": "stdout",
          "text": [
            "Введите команду: l\n",
            "№: 2207 876234, тип: passport, владелец: Василий Гупкин, полка хранения: 1\n",
            "№: 11-2, тип: invoice, владелец: Геннадий Покемонов, полка хранения: 1\n",
            "№: 10006, тип: insurance, владелец: Аристарх Павлов, полка хранения: 2\n"
          ]
        }
      ]
    },
    {
      "cell_type": "markdown",
      "source": [
        "**Пункт 4.** Пользователь по команде \"ads\" может добавить новую полку"
      ],
      "metadata": {
        "id": "bzRVezIjhQ7F"
      }
    },
    {
      "cell_type": "code",
      "source": [
        "def new_shelf(directories):\n",
        "  number_shelf = input('Введите номер новой полки: ')\n",
        "  if number_shelf in directories :\n",
        "    print(\"Такая полка уже существует.\")\n",
        "  else:\n",
        "    directories[number_shelf] = []\n",
        "    print(\"Полка добалена.\")\n",
        "  return(', '.join(list(directories.keys())))\n",
        "new_shelf(directories)"
      ],
      "metadata": {
        "id": "4RlUbBYHhVAc",
        "colab": {
          "base_uri": "https://localhost:8080/",
          "height": 70
        },
        "outputId": "5c6a5984-e847-4205-b570-610ae69e4c92"
      },
      "execution_count": null,
      "outputs": [
        {
          "output_type": "stream",
          "name": "stdout",
          "text": [
            "Введите номер новой полки: 10\n",
            "Полка добалена.\n"
          ]
        },
        {
          "output_type": "execute_result",
          "data": {
            "text/plain": [
              "'1, 2, 3, 10'"
            ],
            "application/vnd.google.colaboratory.intrinsic+json": {
              "type": "string"
            }
          },
          "metadata": {},
          "execution_count": 55
        }
      ]
    },
    {
      "cell_type": "code",
      "source": [
        "def data(documents):\n",
        "  while True:\n",
        "    command = input('Введите команду: ')\n",
        "    if command == 'ads':\n",
        "      print(f'Текущий перечень полок: {new_shelf(directories)}.')\n",
        "      break\n",
        "data(documents)"
      ],
      "metadata": {
        "colab": {
          "base_uri": "https://localhost:8080/"
        },
        "id": "NgGF-pbWDN-W",
        "outputId": "640d10a8-51a6-4b84-df65-148d403a5ba0"
      },
      "execution_count": null,
      "outputs": [
        {
          "output_type": "stream",
          "name": "stdout",
          "text": [
            "Введите команду: 11\n",
            "Введите команду: ads\n",
            "Введите номер новой полки: 11\n",
            "Полка добалена.\n",
            "Текущий перечень полок: 1, 2, 3, 10, 11.\n"
          ]
        }
      ]
    },
    {
      "cell_type": "markdown",
      "source": [
        "**Пункт 5.** Пользователь по команде \"ds\" может удалить существующую полку из данных (только если она пустая)"
      ],
      "metadata": {
        "id": "5THfIwDNhVgw"
      }
    },
    {
      "cell_type": "code",
      "source": [
        "def del_shelf(directories):\n",
        "  meaning = input('Введите номер полки: ')\n",
        "  for number_shelf,number_doc in list(directories.items()):\n",
        "    if number_shelf == meaning and number_doc == []:\n",
        "      del(directories[number_shelf])\n",
        "      print(f'Полка удалена.')\n",
        "    elif number_shelf == meaning and number_doc != []:\n",
        "      print(f'На полке есть документы, удалите их перед удалением полки.')\n",
        "  return(', '.join(list(directories.keys())))\n",
        "del_shelf(directories)"
      ],
      "metadata": {
        "id": "hdrpqkGEhZaN",
        "colab": {
          "base_uri": "https://localhost:8080/",
          "height": 70
        },
        "outputId": "fb576d5e-f928-4029-fdde-434919f49cc9"
      },
      "execution_count": null,
      "outputs": [
        {
          "output_type": "stream",
          "name": "stdout",
          "text": [
            "Введите номер полки: 11\n",
            "Полка удалена.\n"
          ]
        },
        {
          "output_type": "execute_result",
          "data": {
            "text/plain": [
              "'1, 2, 3, 10'"
            ],
            "application/vnd.google.colaboratory.intrinsic+json": {
              "type": "string"
            }
          },
          "metadata": {},
          "execution_count": 59
        }
      ]
    },
    {
      "cell_type": "code",
      "source": [
        "def data(directories):\n",
        "  while True:\n",
        "    command = input('Введите команду: ')\n",
        "    if command == 'ds':\n",
        "      print(f'Текущий перечень полок: {del_shelf(directories)}.')\n",
        "      break\n",
        "data(directories)"
      ],
      "metadata": {
        "colab": {
          "base_uri": "https://localhost:8080/"
        },
        "id": "jU54HJgpc-sf",
        "outputId": "82286801-acd5-434c-acad-3c8d5d7f3d9a"
      },
      "execution_count": null,
      "outputs": [
        {
          "output_type": "stream",
          "name": "stdout",
          "text": [
            "Введите команду: ds\n",
            "Введите номер полки: 10\n",
            "Полка удалена.\n",
            "Текущий перечень полок: 1, 2, 3.\n"
          ]
        }
      ]
    },
    {
      "cell_type": "markdown",
      "source": [
        "# ***Итоговая программа:***"
      ],
      "metadata": {
        "id": "K0rDGccwpkGd"
      }
    },
    {
      "cell_type": "code",
      "source": [
        "def data(documents,directories):\n",
        "  while True:\n",
        "    command = input('Введите команду: ')\n",
        "    if command == 'p':\n",
        "      print(f'Владелец документа: {owner_name(documents)}')\n",
        "    elif command == 's':\n",
        "      print(f'Документ хранится на полке № {position(directories)}')\n",
        "    elif command == 'l':\n",
        "      info_doc(documents,directories)\n",
        "    elif command == 'ads':\n",
        "      print(f'Текущий перечень полок: {new_shelf(directories)}.')\n",
        "    elif command == 'ds':\n",
        "      print(f'Текущий перечень полок: {del_shelf(directories)}.')\n",
        "    elif command == 'q':\n",
        "      print('Выход')\n",
        "    break\n",
        "data(documents,directories)"
      ],
      "metadata": {
        "colab": {
          "base_uri": "https://localhost:8080/"
        },
        "id": "Er4M9wNckgdV",
        "outputId": "64010013-b064-4eec-9d72-f2140b373bcb"
      },
      "execution_count": null,
      "outputs": [
        {
          "output_type": "stream",
          "name": "stdout",
          "text": [
            "Введите команду: ds\n",
            "Введите номер полки: 3\n",
            "Полка удалена.\n",
            "Текущий перечень полок: 1, 2.\n"
          ]
        }
      ]
    }
  ]
}