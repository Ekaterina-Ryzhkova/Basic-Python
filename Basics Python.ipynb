{
  "nbformat": 4,
  "nbformat_minor": 0,
  "metadata": {
    "colab": {
      "provenance": []
    },
    "kernelspec": {
      "name": "python3",
      "display_name": "Python 3"
    },
    "language_info": {
      "name": "python"
    }
  },
  "cells": [
    {
      "cell_type": "markdown",
      "source": [
        "# **\"Основы Python\"**\n",
        "## Задание 1\n",
        "Даны 2 переменных, в которых хранятся строки произвольной длины: phrase_1 и phrase_2.\n",
        "Напишите код, который проверяет какая из этих строк длиннее.\n",
        "\n",
        "\n"
      ],
      "metadata": {
        "id": "BjG8QbC_iid-"
      }
    },
    {
      "cell_type": "code",
      "source": [
        "phrase_1 = '640Кб должно хватить для любых задач. Билл Гейтс (по легенде)'\n",
        "phrase_2 = 'Насколько проще было бы писать программы, если бы не заказчики'\n",
        "\n",
        "if len(phrase_1) > len(phrase_2):\n",
        "  print('Фраза 1 длиннее фразы 2')\n",
        "elif len(phrase_1) < len(phrase_2):\n",
        "  print('Фраза 2 длиннее фразы 1')\n",
        "else:\n",
        "  print('Фразы равной длины')\n"
      ],
      "metadata": {
        "colab": {
          "base_uri": "https://localhost:8080/"
        },
        "id": "I-cZW6U4is7H",
        "outputId": "add197d9-922c-49bb-81fa-ae855857f4f0"
      },
      "execution_count": null,
      "outputs": [
        {
          "output_type": "stream",
          "name": "stdout",
          "text": [
            "Фраза 2 длиннее фразы 1\n"
          ]
        }
      ]
    },
    {
      "cell_type": "markdown",
      "source": [
        "# Задание 2\n",
        "Дана переменная, в которой хранится число (год). Необходимо написать программу, которая выведет, является ли данный год високосным или обычным."
      ],
      "metadata": {
        "id": "V9oca7Uwn5aY"
      }
    },
    {
      "cell_type": "code",
      "source": [
        "year = int(input('Введите год'))\n",
        "\n",
        "if (year % 4 == 0) and (year % 100 != 0) or (year % 400 ==0):\n",
        "  print('Високосный год')\n",
        "else:\n",
        "  print('Обычный год')\n"
      ],
      "metadata": {
        "colab": {
          "base_uri": "https://localhost:8080/"
        },
        "id": "8b5-3QaZoCKd",
        "outputId": "d0dae056-5614-4675-bf31-0c41e869585c"
      },
      "execution_count": null,
      "outputs": [
        {
          "output_type": "stream",
          "name": "stdout",
          "text": [
            "Введите год2025\n",
            "Обычный год\n"
          ]
        }
      ]
    },
    {
      "cell_type": "markdown",
      "source": [
        "# Задание 3\n",
        "Необходимо написать программу, которая будет запрашивать у пользователя месяц и дату рождения и выводить соответствующий знак зодиака."
      ],
      "metadata": {
        "id": "dQlVxb8kq9cF"
      }
    },
    {
      "cell_type": "code",
      "source": [
        "day = int(input('Введите день рождения: '))\n",
        "month = input('Введите месяц рождения: ')\n",
        "\n",
        "if 21 <= day <= 31 and month == 'Март' or 1 <= day <= 19 and month == 'Апрель':\n",
        "  print('Ваш знак зодиака: Овен')\n",
        "elif 20 <= day <= 30 and month == 'Апрель' or 1 <= day <= 20 and month == 'Май':\n",
        "  print('Ваш знак зодиака: Телец')\n",
        "elif 21 <= day <= 31 and month == 'Май' or 1 <= day <= 21 and month == 'Июнь':\n",
        "  print('Ваш знак зодиака: Близнецы')\n",
        "elif 22 <= day <= 30 and month == 'Июнь' or 1 <= day <= 22 and month == 'Июль':\n",
        "  print('Ваш знак зодиака: Рак')\n",
        "elif 23 <= day <= 31 and month == 'Июль' or 1 <= day <= 22 and month == 'Август':\n",
        "  print('Ваш знак зодиака: Лев')\n",
        "elif 23 <= day <= 31 and month == 'Август' or 1 <= day <= 22 and month == 'Сентябрь':\n",
        "  print('Ваш знак зодиака: Дева')\n",
        "elif 23 <= day <= 30 and month == 'Сентябрь' or 1 <= day <= 23 and month == 'Октябрь':\n",
        "  print('Ваш знак зодиака: Весы')\n",
        "elif 24 <= day <= 31 and month == 'Октябрь' or 1 <= day <= 22 and month == 'Ноябрь':\n",
        "  print('Ваш знак зодиака: Скорпион')\n",
        "elif 23 <= day <= 30 and month == 'Ноябрь' or 1 <= day <= 21 and month == 'Декабрь':\n",
        "  print('Ваш знак зодиака: Стрелец')\n",
        "elif 22 <= day <= 31 and month == 'Декабрь' or 1 <= day <= 20 and month == 'Январь':\n",
        "  print('Ваш знак зодиака: Козерог')\n",
        "elif 21 <= day <= 31 and month == 'Январь' or 1 <= day <= 18 and month == 'Февраль':\n",
        "  print('Ваш знак зодиака: Водолей')\n",
        "elif 19 <= day <= 29 and month == 'Февраль' or 1 <= day <= 20 and month == 'Март':\n",
        "  print('Ваш знак зодиака: Рыбы')"
      ],
      "metadata": {
        "colab": {
          "base_uri": "https://localhost:8080/"
        },
        "id": "d8kmy2SArEp2",
        "outputId": "0c44a4fa-f2fc-4406-fd71-a81f068bde20"
      },
      "execution_count": null,
      "outputs": [
        {
          "output_type": "stream",
          "name": "stdout",
          "text": [
            "Введите день рождения: 5\n",
            "Введите месяц рождения: Май\n",
            "Ваш знак зодиака: Телец\n"
          ]
        }
      ]
    },
    {
      "cell_type": "markdown",
      "source": [
        "# Задание 4\n",
        "Вам нужно написать программу для подбора упаковок по размерам товара. Размеры (ширина, длина, высота) хранятся в переменных (в сантиметрах):\n",
        "\n",
        "***Используйте следующие правила:***\n",
        "\n",
        "если каждое из трех измерений менее или равно 15 сантиметрам, то выведите на экран \"Коробка №1\";\n",
        "\n",
        "если хотя бы одно из измерений больше 15 сантиметров, но менее 50 сантиметров, то выводите \"Коробка №2\";\n",
        "\n",
        "если длина товара больше 2 метров, то выводите \"Упаковка для лыж\";\n",
        "\n",
        "во всех остальных случаях выводите \"Стандартная коробка №3\"."
      ],
      "metadata": {
        "id": "6nCkwzJv4ylg"
      }
    },
    {
      "cell_type": "code",
      "source": [
        "w = int(input('Ширина,см: '))\n",
        "l = int(input('Длина,см: '))\n",
        "h = int(input('Высота,см: '))\n",
        "\n",
        "if w <= 15 and l <= 15 and h <= 15:\n",
        "  print('Коробка № 1')\n",
        "elif l > 200:\n",
        "  print('Упаковка для лыж')\n",
        "elif 15 < w < 50 or 15 < l < 50 or 15 < h < 50 :\n",
        "  print('Коробка № 2')\n",
        "else:\n",
        "  print('Стандартная коробка №3')\n"
      ],
      "metadata": {
        "colab": {
          "base_uri": "https://localhost:8080/"
        },
        "id": "Gd4IteSe41G0",
        "outputId": "7c540180-3491-4da1-8548-412a6807a741"
      },
      "execution_count": null,
      "outputs": [
        {
          "output_type": "stream",
          "name": "stdout",
          "text": [
            "Ширина,см: 20\n",
            "Длина,см: 20\n",
            "Высота,см: 20\n",
            "Коробка № 2\n"
          ]
        }
      ]
    },
    {
      "cell_type": "markdown",
      "source": [
        "# Задание 5 (необязательное)\n",
        "Дана переменная, в которой хранится шестизначное число (номер проездного билета).\n",
        "\n",
        "Напишите программу, которая будет определять, является ли данный билет \"счастливым\".\n",
        "\n",
        "Билет считается счастливым, если сумма первых трех цифр совпадает с суммой последних трех цифр номера."
      ],
      "metadata": {
        "id": "bEwK3Obv9lSm"
      }
    },
    {
      "cell_type": "code",
      "source": [
        "num = int(input('Введите номер билета: '))\n",
        "if len(str(num))== 6:\n",
        "  num_1 = num//100000\n",
        "  num_2 = num//10000 % 10\n",
        "  num_3 = num//1000 % 10\n",
        "  num_4 = num//100 % 10\n",
        "  num_5 = num//10 % 10\n",
        "  num_6 = num % 10\n",
        "  if (num_1 + num_2 + num_3) == (num_4 + num_5 + num_6):\n",
        "    print('Счастливый билет')\n",
        "  else:\n",
        "    print('Обычный билет')\n",
        "else:\n",
        "  print('Некорректный номер')"
      ],
      "metadata": {
        "colab": {
          "base_uri": "https://localhost:8080/"
        },
        "id": "BaWejl0P9qSw",
        "outputId": "f93b00b2-c571-4ec8-ca9c-c4cda980b5be"
      },
      "execution_count": null,
      "outputs": [
        {
          "output_type": "stream",
          "name": "stdout",
          "text": [
            "Введите номер билета: 215521\n",
            "Счастливый билет\n"
          ]
        }
      ]
    },
    {
      "cell_type": "markdown",
      "source": [
        "# Задание 6 (необязательное)\n",
        "Напишите программу, которая сможет вычислять площади трех фигур (круг, треугольник и прямоугольник).\n",
        "\n",
        "**Тип фигуры запрашиваем через пользовательский ввод, после чего делаем запрос характеристик фигуры:**\n",
        "\n",
        "если пользователь выбрал круг, запрашиваем его радиус,\n",
        "\n",
        "если треугольник – длины трех его сторон;\n",
        "\n",
        "если прямоугольник – длины двух его сторон."
      ],
      "metadata": {
        "id": "q-sOhQr0Aove"
      }
    },
    {
      "cell_type": "code",
      "source": [
        "x = input('Название фигуры: ')\n",
        "\n",
        "if x == 'Круг':\n",
        "  r = int (input('Введите радиус: '))\n",
        "  s = r ** 2 * 3.1416\n",
        "  print('Площадь круга:', s)\n",
        "elif x == 'Треугольник':\n",
        "  a = int(input('Введите сторону А: '))\n",
        "  b = int(input('Введите сторону B: '))\n",
        "  c = int(input('Введите сторону C: '))\n",
        "  p = 1/2 * (a + b + c)\n",
        "  s = (p * (p - a) * (p - b) * (p - c))** 0.5\n",
        "  print('Площадь треугольника:', s)\n",
        "elif x == 'Прямоугольник':\n",
        "  a = int(input('Введите сторону А: '))\n",
        "  b = int(input('Введите сторону B: '))\n",
        "  s = a * b\n",
        "  print('Площадь прямоугольника:', s)"
      ],
      "metadata": {
        "colab": {
          "base_uri": "https://localhost:8080/"
        },
        "id": "h4yrKDZMAxpc",
        "outputId": "743b3112-3136-47f4-99d8-8a29d7f1856d"
      },
      "execution_count": null,
      "outputs": [
        {
          "output_type": "stream",
          "name": "stdout",
          "text": [
            "Название фигуры: Прямоугольник\n",
            "Введите сторону А: 2\n",
            "Введите сторону B: 3\n",
            "Площадь прямоугольника: 6\n"
          ]
        }
      ]
    }
  ]
}
