{
  "nbformat": 4,
  "nbformat_minor": 0,
  "metadata": {
    "colab": {
      "provenance": []
    },
    "kernelspec": {
      "name": "python3",
      "display_name": "Python 3"
    },
    "language_info": {
      "name": "python"
    }
  },
  "cells": [
    {
      "cell_type": "markdown",
      "source": [
        "## ***Регулярные выражения***\n",
        "\n",
        "---\n",
        "\n"
      ],
      "metadata": {
        "id": "THBN4QdPVqm7"
      }
    },
    {
      "cell_type": "markdown",
      "source": [
        "# **Задание 1**\n",
        "\n",
        "Напишите функцию, которая принимает на вход строку и проверяет является ли она валидным транспортным номером (1 буква, 3 цифры, 2 буквы, 2-3 цифры). Обратите внимание, что не все буквы кириллического алфавита используются в транспортных номерах.\n",
        "\n",
        "Если номер валиден, то функция должна возвращать отдельно номер и регион."
      ],
      "metadata": {
        "id": "VORzRMS5Vy0H"
      }
    },
    {
      "cell_type": "code",
      "source": [
        "import re"
      ],
      "metadata": {
        "id": "Fs0WNcyHV6r7"
      },
      "execution_count": null,
      "outputs": []
    },
    {
      "cell_type": "code",
      "source": [
        "meaning=input('Введите значение: ')\n",
        "def transport_number(num):\n",
        "  num = re.match(r'([АВЕКМНОРСТУХ]{1}\\d{3}[АВЕКМНОРСТУХ]{2})(\\d{2,3})', meaning, flags=re.IGNORECASE)\n",
        "  return(f'Номер {num.group(1)} валиден. Регион: {num.group(2)}' if num else 'Номер не валиден')\n",
        "transport_number(num)"
      ],
      "metadata": {
        "colab": {
          "base_uri": "https://localhost:8080/",
          "height": 193
        },
        "id": "sVwrU9hjX06e",
        "outputId": "ed34a55e-ca8e-4b11-da45-6b494edd8a3b"
      },
      "execution_count": null,
      "outputs": [
        {
          "name": "stdout",
          "output_type": "stream",
          "text": [
            "Введите значение: А235АА52\n"
          ]
        },
        {
          "output_type": "error",
          "ename": "NameError",
          "evalue": "name 'num' is not defined",
          "traceback": [
            "\u001b[0;31m---------------------------------------------------------------------------\u001b[0m",
            "\u001b[0;31mNameError\u001b[0m                                 Traceback (most recent call last)",
            "\u001b[0;32m<ipython-input-4-c114972fbead>\u001b[0m in \u001b[0;36m<cell line: 5>\u001b[0;34m()\u001b[0m\n\u001b[1;32m      3\u001b[0m   \u001b[0mnum\u001b[0m \u001b[0;34m=\u001b[0m \u001b[0mre\u001b[0m\u001b[0;34m.\u001b[0m\u001b[0mmatch\u001b[0m\u001b[0;34m(\u001b[0m\u001b[0;34mr'([АВЕКМНОРСТУХ]{1}\\d{3}[АВЕКМНОРСТУХ]{2})(\\d{2,3})'\u001b[0m\u001b[0;34m,\u001b[0m \u001b[0mmeaning\u001b[0m\u001b[0;34m,\u001b[0m \u001b[0mflags\u001b[0m\u001b[0;34m=\u001b[0m\u001b[0mre\u001b[0m\u001b[0;34m.\u001b[0m\u001b[0mIGNORECASE\u001b[0m\u001b[0;34m)\u001b[0m\u001b[0;34m\u001b[0m\u001b[0;34m\u001b[0m\u001b[0m\n\u001b[1;32m      4\u001b[0m   \u001b[0;32mreturn\u001b[0m\u001b[0;34m(\u001b[0m\u001b[0;34mf'Номер {num.group(1)} валиден. Регион: {num.group(2)}'\u001b[0m \u001b[0;32mif\u001b[0m \u001b[0mnum\u001b[0m \u001b[0;32melse\u001b[0m \u001b[0;34m'Номер не валиден'\u001b[0m\u001b[0;34m)\u001b[0m\u001b[0;34m\u001b[0m\u001b[0;34m\u001b[0m\u001b[0m\n\u001b[0;32m----> 5\u001b[0;31m \u001b[0mtransport_number\u001b[0m\u001b[0;34m(\u001b[0m\u001b[0mnum\u001b[0m\u001b[0;34m)\u001b[0m\u001b[0;34m\u001b[0m\u001b[0;34m\u001b[0m\u001b[0m\n\u001b[0m",
            "\u001b[0;31mNameError\u001b[0m: name 'num' is not defined"
          ]
        }
      ]
    },
    {
      "cell_type": "markdown",
      "source": [
        "# **Задание 2**\n",
        "\n",
        "Напишите функцию, которая будет удалять все последовательные повторы слов из заданной строки при помощи регулярных выражений."
      ],
      "metadata": {
        "id": "s2jB9VVpcgbk"
      }
    },
    {
      "cell_type": "code",
      "source": [
        "some_string = 'Напишите функцию функцию, которая будет будет будет будет удалять все все все все последовательные повторы слов из из из из заданной строки строки при помощи регулярных выражений.'"
      ],
      "metadata": {
        "id": "51WIkMLscjKc"
      },
      "execution_count": null,
      "outputs": []
    },
    {
      "cell_type": "code",
      "source": [
        "def new_string(some_string):\n",
        "  result = re.sub(r'(\\w+)(\\s+\\1)+', r'\\1', some_string)\n",
        "  return(result)\n",
        "new_string(some_string)"
      ],
      "metadata": {
        "colab": {
          "base_uri": "https://localhost:8080/",
          "height": 36
        },
        "id": "ACyRJdJ4p2RC",
        "outputId": "1e637e78-21bc-4f3d-de2e-3c55e95b3be2"
      },
      "execution_count": null,
      "outputs": [
        {
          "output_type": "execute_result",
          "data": {
            "text/plain": [
              "'Напишите функцию, которая будет удалять все последовательные повторы слов из заданной строки при помощи регулярных выражений.'"
            ],
            "application/vnd.google.colaboratory.intrinsic+json": {
              "type": "string"
            }
          },
          "metadata": {},
          "execution_count": 46
        }
      ]
    },
    {
      "cell_type": "markdown",
      "source": [
        "# **Задание 3**\n",
        "Напишите функцию, которая будет возвращать акроним по переданной в нее строке со словами."
      ],
      "metadata": {
        "id": "_SO8cPKRcmbZ"
      }
    },
    {
      "cell_type": "code",
      "source": [
        "some_words = 'Near Field Communication'"
      ],
      "metadata": {
        "id": "496sgzOjct8q"
      },
      "execution_count": null,
      "outputs": []
    },
    {
      "cell_type": "code",
      "source": [
        "def acronym(some_words):\n",
        "  result=re.findall(r'\\b(\\w)', some_words)\n",
        "  return(''.join(result))\n",
        "acronym(some_words)"
      ],
      "metadata": {
        "colab": {
          "base_uri": "https://localhost:8080/",
          "height": 36
        },
        "id": "VpYFnidqs6vO",
        "outputId": "74621629-538b-4bb4-8094-5d2f95adc433"
      },
      "execution_count": null,
      "outputs": [
        {
          "output_type": "execute_result",
          "data": {
            "text/plain": [
              "'NFC'"
            ],
            "application/vnd.google.colaboratory.intrinsic+json": {
              "type": "string"
            }
          },
          "metadata": {},
          "execution_count": 4
        }
      ]
    },
    {
      "cell_type": "code",
      "source": [
        "def acronym(word):\n",
        "  return re.sub(r\"(\\w)\\w+\\s?\", r\"\\1\", word).upper()"
      ],
      "metadata": {
        "id": "D78HrjsCDog-"
      },
      "execution_count": null,
      "outputs": []
    },
    {
      "cell_type": "markdown",
      "source": [
        "# **Задание 4**\n",
        "Напишите функцию, которая будет принимать на вход список email-адресов и выводить их распределение по доменным зонам."
      ],
      "metadata": {
        "id": "R4MsSViBcuiu"
      }
    },
    {
      "cell_type": "code",
      "source": [
        "emails = ['test@gmail.com', 'xyz@test.in', 'test@ya.ru', 'xyz@mail.ru', 'xyz@ya.ru', 'xyz@gmail.com']"
      ],
      "metadata": {
        "id": "pD5upw8Fczrv"
      },
      "execution_count": null,
      "outputs": []
    },
    {
      "cell_type": "code",
      "source": [
        "def email_list():\n",
        "  gmail=0\n",
        "  test=0\n",
        "  ya=0\n",
        "  mail=0\n",
        "  for domen in emails:\n",
        "    gmail_pattern=re.search(r'[\\w\\.-]+@gmail.com', domen)\n",
        "    test_pattern=re.search(r'[\\w\\.-]+@test.in', domen)\n",
        "    ya_pattern=re.search(r'[\\w\\.-]+@ya.ru', domen)\n",
        "    mail_pattern=re.search(r'[\\w\\.-]+@mail.ru', domen)\n",
        "    if gmail_pattern: gmail +=1\n",
        "    if test_pattern: test +=1\n",
        "    if ya_pattern: ya +=1\n",
        "    if mail_pattern: mail +=1\n",
        "  return(f'gmail.com:{gmail} test.in:{test} ya.ru:{ya} mail.ru:{mail}')\n",
        "email_list()"
      ],
      "metadata": {
        "colab": {
          "base_uri": "https://localhost:8080/",
          "height": 36
        },
        "id": "6Wd94iXD4R05",
        "outputId": "db711c8e-ffe0-486d-eb68-15577c73ac4d"
      },
      "execution_count": null,
      "outputs": [
        {
          "output_type": "execute_result",
          "data": {
            "text/plain": [
              "'gmail.com:2 test.in:1 ya.ru:2 mail.ru:1'"
            ],
            "application/vnd.google.colaboratory.intrinsic+json": {
              "type": "string"
            }
          },
          "metadata": {},
          "execution_count": 21
        }
      ]
    },
    {
      "cell_type": "code",
      "source": [
        "def maildomain(listmail):\n",
        "  listdomain = re.findall(r'(?<=@)\\w+.\\w{2,3}', ' '.join(listmail))\n",
        "  for mail in set(listdomain):\n",
        "    print(f'{mail}: {listdomain.count(mail)}')\n"
      ],
      "metadata": {
        "id": "5t-rVyQrEda_"
      },
      "execution_count": null,
      "outputs": []
    }
  ]
}